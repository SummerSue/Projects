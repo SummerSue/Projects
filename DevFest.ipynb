{
 "cells": [
  {
   "cell_type": "code",
   "execution_count": 172,
   "metadata": {
    "collapsed": true
   },
   "outputs": [],
   "source": [
    "from urllib.request import urlopen\n",
    "import string\n",
    "import re\n",
    "import numpy as np\n",
    "import pandas as pd"
   ]
  },
  {
   "cell_type": "code",
   "execution_count": 234,
   "metadata": {
    "collapsed": true
   },
   "outputs": [],
   "source": [
    "# settings. Change the semester and year to crawl course info from different term.\n",
    "SEMESTER = \"Fall\"\n",
    "YEAR = \"2016\""
   ]
  },
  {
   "cell_type": "code",
   "execution_count": 235,
   "metadata": {
    "collapsed": false
   },
   "outputs": [
    {
     "data": {
      "text/plain": [
       "[]"
      ]
     },
     "execution_count": 235,
     "metadata": {},
     "output_type": "execute_result"
    }
   ],
   "source": [
    "# We want to crawl the data subject by subject, from A to Z,\n",
    "# as this is an easy way to create links.\n",
    "\n",
    "# frist creat a template and concatenate it with A-Z to crawl the links represented by each character (A-Z) on the webpage.\n",
    "parent = \"http://www.columbia.edu/cu/bulletin/uwb/sel/subj-\"\n",
    "sub = list(string.ascii_uppercase)\n",
    "urls = [parent+item+\".html\" for item in sub]\n",
    "\n",
    "# then use these created links to crawl the link of each subject.\n",
    "suburls = []\n",
    "for url in urls:\n",
    "    content = str(urlopen(url).read())   \n",
    "    suburls+=re.findall(r'href=\"(/cu/bulletin/uwb/subj/.{4}/_%s%s.html)' % (SEMESTER,YEAR),content)\n",
    "suburls = [\"http://www.columbia.edu\"+item for item in suburls]\n",
    "suburls"
   ]
  },
  {
   "cell_type": "code",
   "execution_count": 236,
   "metadata": {
    "collapsed": false,
    "scrolled": false
   },
   "outputs": [
    {
     "data": {
      "text/html": [
       "<div>\n",
       "<table border=\"1\" class=\"dataframe\">\n",
       "  <thead>\n",
       "    <tr style=\"text-align: right;\">\n",
       "      <th></th>\n",
       "      <th>Fri</th>\n",
       "      <th>Mon</th>\n",
       "      <th>Sat</th>\n",
       "      <th>Thu</th>\n",
       "      <th>Tue</th>\n",
       "      <th>Wed</th>\n",
       "      <th>building</th>\n",
       "      <th>call</th>\n",
       "      <th>name</th>\n",
       "      <th>number</th>\n",
       "      <th>room</th>\n",
       "    </tr>\n",
       "  </thead>\n",
       "  <tbody>\n",
       "  </tbody>\n",
       "</table>\n",
       "</div>"
      ],
      "text/plain": [
       "Empty DataFrame\n",
       "Columns: [Fri, Mon, Sat, Thu, Tue, Wed, building, call, name, number, room]\n",
       "Index: []"
      ]
     },
     "execution_count": 236,
     "metadata": {},
     "output_type": "execute_result"
    }
   ],
   "source": [
    "# We want to ouput a csv file, so we choose pandas.DataFrame.\n",
    "# To create a pandas dataframe, we need to first obtain data from\n",
    "# the webpages and save them into a large dictionary; after that,\n",
    "# which will be passed to pandas.DataFrame.\n",
    "\n",
    "# create dictionary\n",
    "d = {\"call\":[],\"number\":[],\"name\":[],\"Mon\":[],\"Tue\":[],\"Wed\":[],\"Thu\":[],\"Fri\":[],\"Sat\":[],\"building\":[],\"room\":[]}\n",
    "\n",
    "# k: kth url being processed. Will be printed for debugging.\n",
    "k=-1\n",
    "\n",
    "# do this for all the urls\n",
    "for suburl in suburls:\n",
    "    k=k+1\n",
    "    content = str(urlopen(suburl).read()) # read the whole html content of the current link\n",
    "    course = re.findall(r'''%s %s.+?\\w{4}<br>(.+?)bgcolor=\"*?#99''' % (SEMESTER, YEAR), content)[1:] # html data of every course on the webpage are the elements\n",
    "    \n",
    "    # paste the course name with section name\n",
    "    mul = [len(re.findall(r'Section .{2,3}</a>',x)) for x in course] # how many sections each course has\n",
    "    sec = re.findall(r'''(Section .{2,3})''',content) # section list of each course, to be concatenated with course name\n",
    "    name = re.findall(r'''%s %s.+?\\w{4}<br>(.+?)</''' % (SEMESTER, YEAR),content)[1:] # course name of each course\n",
    "    res = []\n",
    "    num = re.findall(r'''<b>%s %s (.+?\\w{4})<br>''' % (SEMESTER, YEAR),content) # course number (not call number) of each course\n",
    "    res2=[]\n",
    "    for i in range(len(mul)):\n",
    "        # because some courses have more than one section, the length of course name and the length of call number may not be the same\n",
    "        # here we multiply each course name and course number with the number of section they have\n",
    "        # and they will be the final course name list and course number list\n",
    "        res+=[name[i]]*mul[i]\n",
    "        res2+=[num[i]]*mul[i]\n",
    "    d[\"name\"]+=[res[i]+\" \"+sec[i] for i in range(len(res))] # concatenate with section number\n",
    "    d[\"number\"]+=res2\n",
    "    \n",
    "    d[\"call\"]+=re.findall(r'''<b>Call Number:</b> (.*?\\w*?) <b>''',content) # the call number list\n",
    "    \n",
    "    # split time info and location info\n",
    "    time=[]\n",
    "    location=[]\n",
    "    for i in range(len(course)):\n",
    "        timeloca = re.findall(r'''</a><br>\\\\n <b>Day/Time:</b> (.+?) <b>Location:</b> (.+?)<br>''',course[i]) # list of tuples containing time and corresponding location\n",
    "        \n",
    "        # weird cases to handle:\n",
    "        # some courses have more than one data/time + location -> only use the first line\n",
    "        # some courses have time but no location (e.g., \"To be announced\") -> later replace it with \"\"\n",
    "        if len(timeloca) == 0:\n",
    "            time+=[\"\"]*mul[i]\n",
    "            location+=[\" \"]*mul[i]\n",
    "        else:\n",
    "            if len(timeloca) == mul[i]:\n",
    "                time+=[x for x,y in timeloca]\n",
    "                location+=[y for x,y in timeloca]\n",
    "            else:\n",
    "                block = re.findall(r'''bgcolor=#DADADA>.+?</td>''',course[i])[1::2]\n",
    "                for j in range(len(block)):\n",
    "                    t = re.findall(r'''</a><br>\\\\n <b>Day/Time:</b> (.+?) <b>Location:</b> .+?<br>''',block[j])\n",
    "                    l = re.findall(r'''</a><br>\\\\n <b>Day/Time:</b> .+? <b>Location:</b> (.+?)<br>''',block[j])\n",
    "                    if len(t) == 0:\n",
    "                        time+=[\"\"]\n",
    "                        location+=[\" \"]\n",
    "                    else:\n",
    "                        time+=t\n",
    "                        location+=l\n",
    "                    \n",
    "    time = [x.split(\" \") for x in time] # split weekday and time\n",
    "    \n",
    "    for i in range(len(time)):\n",
    "        if \"M\" in time[i][0]:\n",
    "            d[\"Mon\"] += [str(time[i][1])]\n",
    "        else:\n",
    "            d[\"Mon\"] += [\"\"]\n",
    "        if \"T\" in time[i][0]:\n",
    "            d[\"Tue\"] += [str(time[i][1])]\n",
    "        else:\n",
    "            d[\"Tue\"] += [\"\"]\n",
    "        if \"W\" in time[i][0]:\n",
    "            d[\"Wed\"] += [str(time[i][1])]\n",
    "        else:\n",
    "            d[\"Wed\"] += [\"\"]\n",
    "        if \"R\" in time[i][0]:\n",
    "            d[\"Thu\"] += [str(time[i][1])]\n",
    "        else:\n",
    "            d[\"Thu\"] += [\"\"]\n",
    "        if \"F\" in time[i][0]:\n",
    "            d[\"Fri\"] += [str(time[i][1])]\n",
    "        else:\n",
    "            d[\"Fri\"] += [\"\"]\n",
    "        if \"S\" in time[i][0]:\n",
    "            d[\"Sat\"] += [str(time[i][1])]\n",
    "        else:\n",
    "            d[\"Sat\"] += [\"\"]\n",
    "    \n",
    "    location = [x.replace(\"ONLINE ONLY\",\" \") for x in location]\n",
    "    location = [x.replace(\"To be announced\", \" \") for x in location]\n",
    "    location = [x.split(\" \",1) for x in location] # use the first space to split the string, i.e, split room and building\n",
    "    d[\"room\"]+=[x for x,y in location]\n",
    "    d[\"building\"]+=[y for x,y in location]\n",
    "    \n",
    "    #d[\"inst\"]+=re.findall(r'Instructors*?:</b> (.+?)</td>',content) # this variable has not implemented yet.. the code needs to be modified (it IS wrong as some courses don't have an instructor\n",
    "    \n",
    "    # print the debugging info\n",
    "    for m in list(d.keys()):\n",
    "        if len(set([len(item) for item in d.values()])) != 1:\n",
    "            print(str(k)+\": \"+m+\" \"+str(len(d[m])))\n",
    "\n",
    "# pass the dictionary to pd.DataFrame\n",
    "df = pd.DataFrame(d)\n",
    "df.tail() # check the last several rows"
   ]
  },
  {
   "cell_type": "code",
   "execution_count": 230,
   "metadata": {
    "collapsed": false
   },
   "outputs": [],
   "source": [
    "# write the dataframe into csv file\n",
    "df.to_csv(\"Accounting.csv\",index=False)"
   ]
  }
 ],
 "metadata": {
  "anaconda-cloud": {},
  "kernelspec": {
   "display_name": "Python [conda root]",
   "language": "python",
   "name": "conda-root-py"
  },
  "language_info": {
   "codemirror_mode": {
    "name": "ipython",
    "version": 3
   },
   "file_extension": ".py",
   "mimetype": "text/x-python",
   "name": "python",
   "nbconvert_exporter": "python",
   "pygments_lexer": "ipython3",
   "version": "3.5.2"
  }
 },
 "nbformat": 4,
 "nbformat_minor": 1
}
